{
  "nbformat": 4,
  "nbformat_minor": 0,
  "metadata": {
    "colab": {
      "name": "MNIST Dataset Hacking.ipynb",
      "provenance": [],
      "collapsed_sections": [],
      "authorship_tag": "ABX9TyNmr01B5a+Ymhsl4uL3Zqkw",
      "include_colab_link": true
    },
    "kernelspec": {
      "name": "python3",
      "display_name": "Python 3"
    }
  },
  "cells": [
    {
      "cell_type": "markdown",
      "metadata": {
        "id": "view-in-github",
        "colab_type": "text"
      },
      "source": [
        "<a href=\"https://colab.research.google.com/github/atamanch/AI-ML/blob/master/TensorFlow/MNIST%20Project/MNIST_Dataset_Hacking.ipynb\" target=\"_parent\"><img src=\"https://colab.research.google.com/assets/colab-badge.svg\" alt=\"Open In Colab\"/></a>"
      ]
    },
    {
      "cell_type": "markdown",
      "metadata": {
        "id": "e68pQyvKJC3A",
        "colab_type": "text"
      },
      "source": [
        "Beginner MNIST Neural Net Project\n",
        "\n",
        "Goal: To train a Deep Neural Network on the MNIST handwritten image dataset with above 98% accuracy.\n",
        "\n"
      ]
    },
    {
      "cell_type": "markdown",
      "metadata": {
        "id": "oMRQxNMSJnez",
        "colab_type": "text"
      },
      "source": [
        "## Load a recent version of TensorFlow"
      ]
    },
    {
      "cell_type": "code",
      "metadata": {
        "id": "gBVvNiqVJO1s",
        "colab_type": "code",
        "colab": {}
      },
      "source": [
        "# Install TensorFlow using Colab's tensorflow_version command\n",
        "try:\n",
        "  # %tensorflow_version only exists in Colab.\n",
        "  %tensorflow_version 2.x\n",
        "except Exception:\n",
        "  pass"
      ],
      "execution_count": 0,
      "outputs": []
    },
    {
      "cell_type": "markdown",
      "metadata": {
        "id": "XCrFfQioJ1bE",
        "colab_type": "text"
      },
      "source": [
        "## Import Libraries\n",
        "\n",
        "Import TensorFlow, Numpy, Matplotlib libraries.\n",
        "\n",
        "Also import the TensorFlow datasets library so we can use the MNIST dataset.\n"
      ]
    },
    {
      "cell_type": "code",
      "metadata": {
        "id": "hHs3FLKEJ0bq",
        "colab_type": "code",
        "outputId": "12afeb32-b41b-416e-836e-ee7ede10f034",
        "colab": {
          "base_uri": "https://localhost:8080/",
          "height": 33
        }
      },
      "source": [
        "# Import libraries\n",
        "import tensorflow as tf\n",
        "import numpy as np\n",
        "import pandas as pd\n",
        "import matplotlib.pyplot as plt\n",
        "\n",
        "# Import TensorFlow Datasets\n",
        "import tensorflow_datasets as tfds\n",
        "tfds.disable_progress_bar()\n",
        "\n",
        "# Print version of TensorFlow currently imported\n",
        "print(tf.__version__)"
      ],
      "execution_count": 55,
      "outputs": [
        {
          "output_type": "stream",
          "text": [
            "2.2.0\n"
          ],
          "name": "stdout"
        }
      ]
    },
    {
      "cell_type": "markdown",
      "metadata": {
        "id": "dMdlbWCMKDjZ",
        "colab_type": "text"
      },
      "source": [
        "Problem: Human handwriting is imperfect compared to computerized text. Train a model to correctly predict the English characters within a set of handwritten images."
      ]
    },
    {
      "cell_type": "markdown",
      "metadata": {
        "id": "LRZkw8-vRKgd",
        "colab_type": "text"
      },
      "source": [
        "## Load MNIST\n",
        "Load with the following arguments:\n",
        "\n",
        "\n",
        "*   shuffle_files: The MNIST data is only stored in a single file, but for larger datasets with multiple files on disk, it's good practice to shuffle them when training.\n",
        "*   as_supervised: Returns tuple (img, label) instead of dict {'image': img, 'label': label}"
      ]
    },
    {
      "cell_type": "code",
      "metadata": {
        "id": "jxXN18MASFgD",
        "colab_type": "code",
        "outputId": "63eddcb8-1393-4fbf-904d-2daf912d9d67",
        "colab": {
          "base_uri": "https://localhost:8080/",
          "height": 54
        }
      },
      "source": [
        "# Load the mnist dataset using tdfs\n",
        "(ds_train, ds_test), ds_info = tfds.load(\n",
        "    'mnist',\n",
        "    split=['train', 'test'],\n",
        "    shuffle_files=True,\n",
        "    as_supervised=True,\n",
        "    with_info=True,\n",
        "    try_gcs=True\n",
        ")\n",
        "\n",
        "# Output one example to verify dataset has been imported\n",
        "print(ds_train)"
      ],
      "execution_count": 0,
      "outputs": [
        {
          "output_type": "stream",
          "text": [
            "<DatasetV1Adapter shapes: ((28, 28, 1), ()), types: (tf.uint8, tf.int64)>\n"
          ],
          "name": "stdout"
        }
      ]
    },
    {
      "cell_type": "markdown",
      "metadata": {
        "id": "WpNAiSa8NoqF",
        "colab_type": "text"
      },
      "source": [
        "## Next up we build the training pipeline.\n",
        "\n",
        "We apply the following transormations to the dataset.\n",
        "\n",
        "\n",
        "*   ds.map: TFDS provides the images as tf.uint8 encoding, while the model expects tf.float32, so normalize the images to float32.\n",
        "*   ds.cache As the dataset fits into memory, cache it before shuffling for better performance. Note: Random transformations should be applied after caching.\n",
        "*   ds.shuffle: For true randomness, set the shuffle buffer to the full size of the dataset.\n",
        "Note: For bigger datasets which do not fit in memory, a standard value is 1000 if your system allows it.\n",
        "*   ds.batch: Batch after shuffling to get unique batches at each epoch.\n",
        "*   ds.prefetch: It is good practice to end the pipeline by prefetching for performance.\n",
        "\n"
      ]
    },
    {
      "cell_type": "code",
      "metadata": {
        "id": "dzn_WLegNrYo",
        "colab_type": "code",
        "colab": {}
      },
      "source": [
        "def normalize_img(image, label):\n",
        "  \"\"\"Normalizes images: `uint8` -> `float32`.\"\"\"\n",
        "  return tf.cast(image, tf.float32) / 255., label\n",
        "\n",
        "ds_train = ds_train.map(\n",
        "    normalize_img, num_parallel_calls=tf.data.experimental.AUTOTUNE)\n",
        "ds_train = ds_train.cache()\n",
        "ds_train = ds_train.shuffle(ds_info.splits['train'].num_examples)\n",
        "ds_train = ds_train.batch(128)\n",
        "ds_train = ds_train.prefetch(tf.data.experimental.AUTOTUNE)"
      ],
      "execution_count": 0,
      "outputs": []
    },
    {
      "cell_type": "markdown",
      "metadata": {
        "id": "14VBsldHQAaG",
        "colab_type": "text"
      },
      "source": [
        "## Build evaluation pipeline\n",
        "The Testing pipeline is similar to the training pipeline, with small tweaks:\n",
        "\n",
        "\n",
        "*   There is no ds.shuffle() call\n",
        "*   Caching is done after batching (as batches can be the same between epoch)\n"
      ]
    },
    {
      "cell_type": "code",
      "metadata": {
        "id": "9ZTAAsEbQilM",
        "colab_type": "code",
        "colab": {}
      },
      "source": [
        "ds_test = ds_test.map(\n",
        "    normalize_img, num_parallel_calls=tf.data.experimental.AUTOTUNE)\n",
        "ds_test = ds_test.batch(128)\n",
        "ds_test = ds_test.cache()\n",
        "ds_test = ds_test.prefetch(tf.data.experimental.AUTOTUNE)"
      ],
      "execution_count": 0,
      "outputs": []
    },
    {
      "cell_type": "markdown",
      "metadata": {
        "id": "m13vl58IYODA",
        "colab_type": "text"
      },
      "source": [
        "# Define the plotting curves\n",
        "This will be used to graph model accuracy and loss over time"
      ]
    },
    {
      "cell_type": "code",
      "metadata": {
        "id": "NxpgrsSiYU34",
        "colab_type": "code",
        "colab": {}
      },
      "source": [
        "\"\"\"\n",
        "def plot_curve(epochs, hist, list_of_metrics):\n",
        "  # Plot a curve of one or more classification metrics vs. epoch.\n",
        "  # list_of_metrics should be one of the names shown in:\n",
        "  # https://www.tensorflow.org/tutorials/structured_data/imbalanced_data#define_the_model_and_metrics  \n",
        "\n",
        "  plt.figure.Figure()\n",
        "  plt.pyplot.xlabel(\"Epoch\")\n",
        "  plt.pyplot.ylabel(\"Value\")\n",
        "\n",
        "  for m in list_of_metrics:\n",
        "    x = hist[m]\n",
        "    plt.pyplot.plot(epochs[1:], x[1:], label=m)\n",
        "\n",
        "  plt.pyplot.legend()\n",
        "\n",
        "print(\"Loaded the plot_curve function.\")\n",
        "\"\"\"\n",
        "\n",
        "def plot_acc(hist):\n",
        "  # plot the accuracy\n",
        "  plt.title('Accuracy History')\n",
        "  plt.plot(hist.history['accuracy'])\n",
        "  plt.ylabel('Accuracy')\n",
        "  plt.xlabel('epoch')\n",
        "  plt.show()\n",
        "  \n",
        "def plot_loss(hist):\n",
        "  # plot the loss\n",
        "  plt.title('Loss History')\n",
        "  plt.plot(hist.history['loss'])\n",
        "  plt.ylabel('loss')\n",
        "  plt.xlabel('epoch')\n",
        "  plt.show()"
      ],
      "execution_count": 0,
      "outputs": []
    },
    {
      "cell_type": "markdown",
      "metadata": {
        "id": "dgku72p8QkDr",
        "colab_type": "text"
      },
      "source": [
        "## Build and train the model\n",
        "\n",
        "Input the training pipeline built above into Keras and define model parameters"
      ]
    },
    {
      "cell_type": "code",
      "metadata": {
        "id": "Okb2d-XuR-CJ",
        "colab_type": "code",
        "colab": {}
      },
      "source": [
        "def create_model(learning_rate):\n",
        "\n",
        "  # Use an input shape of 28x28 because the images in MNIST are 28x28 pixels\n",
        "  # reLU has been effective in most use cases including this one, add a relatively dense layer with 128 neurons\n",
        "  # Use softmax activation function because we want a probability distribution\n",
        "\n",
        "  model = tf.keras.models.Sequential([\n",
        "    tf.keras.layers.Flatten(input_shape=(28, 28, 1)),\n",
        "    tf.keras.layers.Dense(128,activation='relu'),\n",
        "    tf.keras.layers.Dense(10, activation='softmax')\n",
        "  ])\n",
        "\n",
        "  # Compile model with SCC loss function, Adam optimizer and Accuracy metric\n",
        "  # SCC is used when you have two or more label classes\n",
        "  # Adam optimizer uses Stochastic Gradient Descent and is efficient when dealing with large datasets\n",
        "  # Accuracy metric is used to calculate how often predictions from the model are equal to the real labels\n",
        "\n",
        "  model.compile(\n",
        "      optimizer=tf.keras.optimizers.Adam(learning_rate),\n",
        "      loss='sparse_categorical_crossentropy',\n",
        "      metrics=['accuracy'],\n",
        "  )\n",
        "\n",
        "  return model\n",
        "\n",
        "def train_model(model, epochs, batch_size):\n",
        "\n",
        "\n",
        "  # Fit the model using the training split, then validate using the test split\n",
        "  history = model.fit(\n",
        "      ds_train,\n",
        "      batch_size=batch_size,\n",
        "      epochs=epochs,\n",
        "      validation_data=ds_test\n",
        "  )\n",
        "\n",
        "  # To track the progress of training, take a snapshot of the model metrics at each epoch and add it to a dataframe.\n",
        "  epochs = history.epoch\n",
        "  hist = pd.DataFrame(history.history)\n",
        "\n",
        "  return epochs, hist, history\n",
        "\n"
      ],
      "execution_count": 0,
      "outputs": []
    },
    {
      "cell_type": "markdown",
      "metadata": {
        "id": "UL-IQCWlsdaJ",
        "colab_type": "text"
      },
      "source": [
        "# Invoke previously defined functions"
      ]
    },
    {
      "cell_type": "code",
      "metadata": {
        "id": "katHIz0Nsgce",
        "colab_type": "code",
        "outputId": "1b8e9f83-e8ae-41cd-cf32-69d975af9d2c",
        "colab": {
          "base_uri": "https://localhost:8080/",
          "height": 351
        }
      },
      "source": [
        "# These variables are the hyperparameters for the model.\n",
        "learning_rate = 0.0005\n",
        "epochs = 10\n",
        "batch_size = 4000\n",
        "\n",
        "# Define model topography\n",
        "my_model = create_model(learning_rate)\n",
        "\n",
        "# Train the model\n",
        "epochs, hist, history = train_model(my_model,epochs,batch_size)"
      ],
      "execution_count": 75,
      "outputs": [
        {
          "output_type": "stream",
          "text": [
            "Epoch 1/10\n",
            "469/469 [==============================] - 2s 4ms/step - loss: 0.4739 - accuracy: 0.8741 - val_loss: 0.2528 - val_accuracy: 0.9297\n",
            "Epoch 2/10\n",
            "469/469 [==============================] - 2s 4ms/step - loss: 0.2228 - accuracy: 0.9378 - val_loss: 0.1903 - val_accuracy: 0.9452\n",
            "Epoch 3/10\n",
            "469/469 [==============================] - 2s 4ms/step - loss: 0.1720 - accuracy: 0.9510 - val_loss: 0.1566 - val_accuracy: 0.9564\n",
            "Epoch 4/10\n",
            "469/469 [==============================] - 2s 4ms/step - loss: 0.1399 - accuracy: 0.9608 - val_loss: 0.1346 - val_accuracy: 0.9629\n",
            "Epoch 5/10\n",
            "469/469 [==============================] - 2s 4ms/step - loss: 0.1176 - accuracy: 0.9668 - val_loss: 0.1205 - val_accuracy: 0.9649\n",
            "Epoch 6/10\n",
            "469/469 [==============================] - 2s 4ms/step - loss: 0.1003 - accuracy: 0.9717 - val_loss: 0.1086 - val_accuracy: 0.9675\n",
            "Epoch 7/10\n",
            "469/469 [==============================] - 2s 4ms/step - loss: 0.0872 - accuracy: 0.9760 - val_loss: 0.0997 - val_accuracy: 0.9702\n",
            "Epoch 8/10\n",
            "469/469 [==============================] - 2s 4ms/step - loss: 0.0764 - accuracy: 0.9780 - val_loss: 0.0954 - val_accuracy: 0.9716\n",
            "Epoch 9/10\n",
            "469/469 [==============================] - 2s 4ms/step - loss: 0.0680 - accuracy: 0.9810 - val_loss: 0.0864 - val_accuracy: 0.9733\n",
            "Epoch 10/10\n",
            "469/469 [==============================] - 2s 4ms/step - loss: 0.0606 - accuracy: 0.9830 - val_loss: 0.0807 - val_accuracy: 0.9754\n"
          ],
          "name": "stdout"
        }
      ]
    },
    {
      "cell_type": "markdown",
      "metadata": {
        "id": "07ZZd8HZsT8N",
        "colab_type": "text"
      },
      "source": [
        "# Plot output of accuracy and loss metrics"
      ]
    },
    {
      "cell_type": "code",
      "metadata": {
        "id": "fiWfRRqqaxDP",
        "colab_type": "code",
        "outputId": "1466ed2f-a498-4a3d-ae2b-e178f2813134",
        "colab": {
          "base_uri": "https://localhost:8080/",
          "height": 573
        }
      },
      "source": [
        "# Plot the collected metrics over time\n",
        "\"\"\"\n",
        "list_of_metrics_to_plot = ['accuracy']\n",
        "plot_curve(epochs, hist, list_of_metrics_to_plot)\n",
        "\"\"\"\n",
        "plot_loss(history)\n",
        "plot_acc(history)\n"
      ],
      "execution_count": 76,
      "outputs": [
        {
          "output_type": "display_data",
          "data": {
            "image/png": "[encoded data removed]",
            "text/plain": [
              "<Figure size 432x288 with 1 Axes>"
            ]
          },
          "metadata": {
            "tags": [],
            "needs_background": "light"
          }
        },
        {
          "output_type": "display_data",
          "data": {
            "image/png": "[encoded data removed]",
            "text/plain": [
              "<Figure size 432x288 with 1 Axes>"
            ]
          },
          "metadata": {
            "tags": [],
            "needs_background": "light"
          }
        }
      ]
    }
  ]
}